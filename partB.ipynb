{
 "cells": [
  {
   "cell_type": "markdown",
   "metadata": {},
   "source": [
    "# Final Project - Part B\n",
    "\n",
    "### Lihi Verchik - 308089333 , Aviram Adiri - 302991468"
   ]
  },
  {
   "cell_type": "markdown",
   "metadata": {},
   "source": [
    "In this part we will create text classification model depends on the data we collect in part A\n",
    "\n",
    "### First step: Reading and Organizing the data.\n",
    "\n",
    "First, we will load the relevnt packages and data.\n",
    "Then, we will read the data from the file we created in part A:\n"
   ]
  },
  {
   "cell_type": "code",
   "execution_count": 1,
   "metadata": {
    "collapsed": false,
    "scrolled": true
   },
   "outputs": [
    {
     "name": "stdout",
     "output_type": "stream",
     "text": [
      "Populating the interactive namespace from numpy and matplotlib\n"
     ]
    }
   ],
   "source": [
    "%pylab inline"
   ]
  },
  {
   "cell_type": "code",
   "execution_count": 2,
   "metadata": {
    "collapsed": true
   },
   "outputs": [],
   "source": [
    "import pandas as pd\n",
    "import numpy as np\n",
    "import matplotlib as plt\n",
    "from bs4 import BeautifulSoup \n",
    "import re\n",
    "import nltk\n",
    "from nltk.corpus import stopwords"
   ]
  },
  {
   "cell_type": "code",
   "execution_count": 3,
   "metadata": {
    "collapsed": false
   },
   "outputs": [],
   "source": [
    "df_posts = pd.read_csv(\"./posts_with_genders.csv\",encoding = 'latin1')"
   ]
  },
  {
   "cell_type": "code",
   "execution_count": 4,
   "metadata": {
    "collapsed": false
   },
   "outputs": [
    {
     "data": {
      "text/html": [
       "<div>\n",
       "<table border=\"1\" class=\"dataframe\">\n",
       "  <thead>\n",
       "    <tr style=\"text-align: right;\">\n",
       "      <th></th>\n",
       "      <th>gender</th>\n",
       "      <th>message</th>\n",
       "    </tr>\n",
       "  </thead>\n",
       "  <tbody>\n",
       "    <tr>\n",
       "      <th>0</th>\n",
       "      <td>female</td>\n",
       "      <td>Insomniac released a statement about the man's...</td>\n",
       "    </tr>\n",
       "    <tr>\n",
       "      <th>1</th>\n",
       "      <td>male</td>\n",
       "      <td>How many people got scammed this weekend?????</td>\n",
       "    </tr>\n",
       "    <tr>\n",
       "      <th>2</th>\n",
       "      <td>male</td>\n",
       "      <td>Idk about yall, but to me the best set was All...</td>\n",
       "    </tr>\n",
       "    <tr>\n",
       "      <th>3</th>\n",
       "      <td>female</td>\n",
       "      <td>Did you all know Kaskade performed at EDC yest...</td>\n",
       "    </tr>\n",
       "    <tr>\n",
       "      <th>4</th>\n",
       "      <td>female</td>\n",
       "      <td>https://www.facebook.com/jushonti.giberson/pos...</td>\n",
       "    </tr>\n",
       "    <tr>\n",
       "      <th>5</th>\n",
       "      <td>male</td>\n",
       "      <td>Bruh! &lt;ed&gt;&lt;U+00A0&gt;&lt;U+00BD&gt;&lt;ed&gt;&lt;U+00B8&gt;&lt;U+00B3&gt;...</td>\n",
       "    </tr>\n",
       "    <tr>\n",
       "      <th>6</th>\n",
       "      <td>female</td>\n",
       "      <td>I had a blast being Link on day 2. 70% called ...</td>\n",
       "    </tr>\n",
       "    <tr>\n",
       "      <th>7</th>\n",
       "      <td>male</td>\n",
       "      <td>I feel bad for everyone still in line for the ...</td>\n",
       "    </tr>\n",
       "    <tr>\n",
       "      <th>8</th>\n",
       "      <td>male</td>\n",
       "      <td>https://m.facebook.com/story.php?story_fbid=28...</td>\n",
       "    </tr>\n",
       "    <tr>\n",
       "      <th>9</th>\n",
       "      <td>female</td>\n",
       "      <td>One of the best time of my life !!! \\r\\rSee yo...</td>\n",
       "    </tr>\n",
       "  </tbody>\n",
       "</table>\n",
       "</div>"
      ],
      "text/plain": [
       "   gender                                            message\n",
       "0  female  Insomniac released a statement about the man's...\n",
       "1    male      How many people got scammed this weekend?????\n",
       "2    male  Idk about yall, but to me the best set was All...\n",
       "3  female  Did you all know Kaskade performed at EDC yest...\n",
       "4  female  https://www.facebook.com/jushonti.giberson/pos...\n",
       "5    male  Bruh! <ed><U+00A0><U+00BD><ed><U+00B8><U+00B3>...\n",
       "6  female  I had a blast being Link on day 2. 70% called ...\n",
       "7    male  I feel bad for everyone still in line for the ...\n",
       "8    male  https://m.facebook.com/story.php?story_fbid=28...\n",
       "9  female  One of the best time of my life !!! \\r\\rSee yo..."
      ]
     },
     "execution_count": 4,
     "metadata": {},
     "output_type": "execute_result"
    }
   ],
   "source": [
    "df_posts.head(10)"
   ]
  },
  {
   "cell_type": "markdown",
   "metadata": {},
   "source": [
    "Then, we got the summary of numerical variables, and plot the histogram of ApplicantIncome."
   ]
  },
  {
   "cell_type": "code",
   "execution_count": 5,
   "metadata": {
    "collapsed": false
   },
   "outputs": [
    {
     "data": {
      "text/html": [
       "<div>\n",
       "<table border=\"1\" class=\"dataframe\">\n",
       "  <thead>\n",
       "    <tr style=\"text-align: right;\">\n",
       "      <th></th>\n",
       "      <th>gender</th>\n",
       "      <th>message</th>\n",
       "    </tr>\n",
       "  </thead>\n",
       "  <tbody>\n",
       "    <tr>\n",
       "      <th>count</th>\n",
       "      <td>1092</td>\n",
       "      <td>1092</td>\n",
       "    </tr>\n",
       "    <tr>\n",
       "      <th>unique</th>\n",
       "      <td>2</td>\n",
       "      <td>1067</td>\n",
       "    </tr>\n",
       "    <tr>\n",
       "      <th>top</th>\n",
       "      <td>male</td>\n",
       "      <td>Looking for a ride back to the airport that is...</td>\n",
       "    </tr>\n",
       "    <tr>\n",
       "      <th>freq</th>\n",
       "      <td>656</td>\n",
       "      <td>9</td>\n",
       "    </tr>\n",
       "  </tbody>\n",
       "</table>\n",
       "</div>"
      ],
      "text/plain": [
       "       gender                                            message\n",
       "count    1092                                               1092\n",
       "unique      2                                               1067\n",
       "top      male  Looking for a ride back to the airport that is...\n",
       "freq      656                                                  9"
      ]
     },
     "execution_count": 5,
     "metadata": {},
     "output_type": "execute_result"
    }
   ],
   "source": [
    "df_posts.describe()"
   ]
  },
  {
   "cell_type": "markdown",
   "metadata": {
    "collapsed": true
   },
   "source": [
    "We can see that we have lots of unknown chars in our text (emojis and so on).\n",
    "The next method is used for cleaning the text."
   ]
  },
  {
   "cell_type": "code",
   "execution_count": 6,
   "metadata": {
    "collapsed": true
   },
   "outputs": [],
   "source": [
    "def post_to_words(row_post):\n",
    "    # Function to convert a raw post to a string of words\n",
    "    # The input is a single string (a raw post), and \n",
    "    # the output is a single string (a preprocessed post review)\n",
    "    \n",
    "    # 1. Remove tags\n",
    "    row_post = re.sub('<.*?>', '', row_post)\n",
    "    \n",
    "    # 2. remove non-letters\n",
    "    letters_only  = re.sub(\"[^a-zA-Z]\", \" \", row_post) \n",
    "    \n",
    "    # 3. Convert to lower case, split into individual words\n",
    "    words = letters_only.lower().split()     \n",
    "    \n",
    "    # 4. In Python, searching a set is much faster than searching\n",
    "    #   a list, so convert the stop words to a set\n",
    "    stops = set(stopwords.words(\"english\"))   \n",
    "    \n",
    "    # 5. Remove stop words\n",
    "    meaningful_words = [w for w in words if not w in stops] \n",
    "    \n",
    "    # 6. Join the words back into one string separated by space, \n",
    "    # and return the result.\n",
    "    return( \" \".join( meaningful_words )) "
   ]
  },
  {
   "cell_type": "markdown",
   "metadata": {},
   "source": [
    "Lets check our method:"
   ]
  },
  {
   "cell_type": "code",
   "execution_count": 10,
   "metadata": {
    "collapsed": false,
    "scrolled": true
   },
   "outputs": [
    {
     "name": "stdout",
     "output_type": "stream",
     "text": [
      "insomniac released statement man death\n"
     ]
    }
   ],
   "source": [
    "clean_post = post_to_words(df_posts[\"message\"][0] )\n",
    "print(clean_post)"
   ]
  },
  {
   "cell_type": "markdown",
   "metadata": {},
   "source": [
    "And now let's apply this method on the posts:"
   ]
  },
  {
   "cell_type": "code",
   "execution_count": 12,
   "metadata": {
    "collapsed": false
   },
   "outputs": [
    {
     "data": {
      "text/plain": [
       "0               insomniac released statement man death\n",
       "1                      many people got scammed weekend\n",
       "2    idk yall best set allison wonderland b b diplo...\n",
       "3           know kaskade performed edc yesterday effff\n",
       "4    https www facebook com jushonti giberson posts...\n",
       "5                                   bruh hope hurt bad\n",
       "6                      blast link day called zelda tho\n",
       "7                feel bad everyone still line shuttles\n",
       "8    https facebook com story php story fbid id us edc\n",
       "9      one best time life see next year electronic sky\n",
       "Name: message, dtype: object"
      ]
     },
     "execution_count": 12,
     "metadata": {},
     "output_type": "execute_result"
    }
   ],
   "source": [
    "clean_posts = df_posts['message'].apply(lambda post: post_to_words(post))\n",
    "clean_posts.head(10)"
   ]
  },
  {
   "cell_type": "markdown",
   "metadata": {},
   "source": [
    "### bag of words - BOW"
   ]
  },
  {
   "cell_type": "markdown",
   "metadata": {
    "collapsed": true
   },
   "source": [
    "The Bag of Words model learns a vocabulary from all of the documents, then models each document by counting the number of times each word appears."
   ]
  },
  {
   "cell_type": "code",
   "execution_count": 13,
   "metadata": {
    "collapsed": false
   },
   "outputs": [
    {
     "name": "stdout",
     "output_type": "stream",
     "text": [
      "Creating the bag of words...\n",
      "\n"
     ]
    }
   ],
   "source": [
    "print(\"Creating the bag of words...\\n\")\n",
    "from sklearn.feature_extraction.text import CountVectorizer\n",
    "\n",
    "# Initialize the \"CountVectorizer\" object, which is scikit-learn's\n",
    "# bag of words tool.  \n",
    "vectorizer = CountVectorizer(analyzer = \"word\",\n",
    "                             tokenizer = None,\n",
    "                             preprocessor = None, \n",
    "                             stop_words = None, \n",
    "                             max_features = 5000) \n",
    "\n",
    "# fit_transform() Convert a collection of text documents (reviews in our example) to a matrix of token counts.\n",
    "# This implementation produces a sparse representation.\n",
    "# The input to fit_transform should be a list of strings.\n",
    "posts_data_features = vectorizer.fit_transform(clean_posts)\n",
    "###train_data_features = vectorizer.fit_transform(train['review'])\n",
    "\n",
    "# Numpy arrays are easy to work with, so convert the result to an \n",
    "# array\n",
    "\n",
    "posts_data_features = posts_data_features.toarray()"
   ]
  },
  {
   "cell_type": "code",
   "execution_count": 14,
   "metadata": {
    "collapsed": false
   },
   "outputs": [
    {
     "name": "stdout",
     "output_type": "stream",
     "text": [
      "['able', 'absolute', 'absolutely', 'ac', 'acceptable', 'access', 'accident', 'accidentally', 'account', 'achey', 'acontext', 'across', 'action', 'actively', 'actually', 'add', 'adding', 'additional', 'ade', 'admiring', 'admission', 'admissions', 'advantage', 'adventure', 'af', 'affordable', 'afrojack', 'afternoon', 'afterwards', 'age', 'agencies', 'ago', 'agrees', 'aid', 'aint', 'air', 'airbrush', 'airport', 'airways', 'albuquerque', 'alcohol', 'alesso', 'alex', 'alexandria', 'alive', 'allison', 'alllove', 'allow', 'allowed', 'allready']\n"
     ]
    }
   ],
   "source": [
    "vocab = vectorizer.get_feature_names()\n",
    "print(vocab[0:50])"
   ]
  },
  {
   "cell_type": "markdown",
   "metadata": {},
   "source": [
    "### Second step: Training the Model following the train data.\n",
    "Now, after all the information is completed, we can start with the Training part. \n",
    "First, we will split the data to test and train:"
   ]
  },
  {
   "cell_type": "code",
   "execution_count": 103,
   "metadata": {
    "collapsed": false
   },
   "outputs": [],
   "source": [
    "import numpy as np\n",
    "\n",
    "#split to train & test\n",
    "train_posts = np.random.rand(len(df_posts)) < 0.75\n",
    "train_message = posts_data_features[train_posts]\n",
    "train_gender = df_posts.loc[train_posts,\"gender\"]\n",
    "\n",
    "test_message = posts_data_features[~train_posts]\n",
    "test_gender = df_posts.loc[~train_posts,\"gender\"]"
   ]
  },
  {
   "cell_type": "markdown",
   "metadata": {},
   "source": [
    "Let's check several models:"
   ]
  },
  {
   "cell_type": "markdown",
   "metadata": {},
   "source": [
    "### First model:  K-Neighbors model."
   ]
  },
  {
   "cell_type": "code",
   "execution_count": 111,
   "metadata": {
    "collapsed": false
   },
   "outputs": [
    {
     "data": {
      "text/plain": [
       "0.61347517730496459"
      ]
     },
     "execution_count": 111,
     "metadata": {},
     "output_type": "execute_result"
    }
   ],
   "source": [
    "from sklearn.neighbors import KNeighborsClassifier\n",
    "\n",
    "KNeighbors = KNeighborsClassifier(n_neighbors=130) \n",
    "\n",
    "KNeighbors = KNeighbors.fit( train_message, train_gender )\n",
    "\n",
    "score = KNeighbors.score(test_message,test_gender )\n",
    "score"
   ]
  },
  {
   "cell_type": "markdown",
   "metadata": {},
   "source": [
    "Result - in the best case we got ~ 0.65"
   ]
  },
  {
   "cell_type": "markdown",
   "metadata": {},
   "source": [
    "### Second model: Gradient Boosting model."
   ]
  },
  {
   "cell_type": "code",
   "execution_count": 120,
   "metadata": {
    "collapsed": false,
    "scrolled": false
   },
   "outputs": [
    {
     "data": {
      "text/plain": [
       "0.62411347517730498"
      ]
     },
     "execution_count": 120,
     "metadata": {},
     "output_type": "execute_result"
    }
   ],
   "source": [
    "from sklearn.ensemble import GradientBoostingClassifier\n",
    "\n",
    "GradientBoosting = GradientBoostingClassifier( n_estimators = 45 ) \n",
    "\n",
    "GradientBoosting = GradientBoosting.fit( train_message, train_gender )\n",
    "\n",
    "score = GradientBoosting.score(test_message,test_gender )\n",
    "score"
   ]
  },
  {
   "cell_type": "markdown",
   "metadata": {},
   "source": [
    "Result - in the best case we got ~ 0.63"
   ]
  },
  {
   "cell_type": "markdown",
   "metadata": {},
   "source": [
    "### Third model: Decision Tree model."
   ]
  },
  {
   "cell_type": "code",
   "execution_count": 141,
   "metadata": {
    "collapsed": false
   },
   "outputs": [
    {
     "data": {
      "text/plain": [
       "0.60992907801418439"
      ]
     },
     "execution_count": 141,
     "metadata": {},
     "output_type": "execute_result"
    }
   ],
   "source": [
    "from sklearn.tree import DecisionTreeClassifier\n",
    "\n",
    "DecisionTree= DecisionTreeClassifier(random_state = 1) \n",
    "\n",
    "DecisionTree = DecisionTree.fit( train_message, train_gender )\n",
    "\n",
    "score = DecisionTree.score(test_message,test_gender )\n",
    "score"
   ]
  },
  {
   "cell_type": "markdown",
   "metadata": {},
   "source": [
    "Result - in the best case we got ~ 0.62"
   ]
  },
  {
   "cell_type": "markdown",
   "metadata": {},
   "source": [
    "### 4th model: Logistic Regression model."
   ]
  },
  {
   "cell_type": "code",
   "execution_count": 147,
   "metadata": {
    "collapsed": false
   },
   "outputs": [
    {
     "data": {
      "text/plain": [
       "0.56737588652482274"
      ]
     },
     "execution_count": 147,
     "metadata": {},
     "output_type": "execute_result"
    }
   ],
   "source": [
    "from sklearn.linear_model import LogisticRegression\n",
    "\n",
    "LogisticRegression= LogisticRegression() \n",
    "\n",
    "LogisticRegression = LogisticRegression.fit( train_message, train_gender )\n",
    "\n",
    "score = LogisticRegression.score(test_message,test_gender )\n",
    "score"
   ]
  },
  {
   "cell_type": "markdown",
   "metadata": {},
   "source": [
    "Result - in the best case we got ~ 0.56"
   ]
  },
  {
   "cell_type": "markdown",
   "metadata": {},
   "source": [
    "### 5th model: Random Forest model."
   ]
  },
  {
   "cell_type": "code",
   "execution_count": 162,
   "metadata": {
    "collapsed": false
   },
   "outputs": [
    {
     "data": {
      "text/plain": [
       "0.57092198581560283"
      ]
     },
     "execution_count": 162,
     "metadata": {},
     "output_type": "execute_result"
    }
   ],
   "source": [
    "from sklearn.ensemble import RandomForestClassifier\n",
    "\n",
    "RandomForestClassifier= RandomForestClassifier( n_estimators = 80 ) \n",
    "\n",
    "RandomForestClassifier = RandomForestClassifier.fit( train_message, train_gender )\n",
    "\n",
    "score = RandomForestClassifier.score(test_message,test_gender )\n",
    "score"
   ]
  },
  {
   "cell_type": "markdown",
   "metadata": {},
   "source": [
    "Result - in the best case we got ~ 0.59"
   ]
  },
  {
   "cell_type": "markdown",
   "metadata": {},
   "source": [
    "## Summarize\n",
    "The best result that we got was with K-Neighbors model, with score of 0.65 .\n",
    "\n",
    "We expected to better results, but we assume that the reason for that is our data- it may be too monotonous and not enugh diverse.\n",
    "\n",
    "Before the next iteration we will try to replace the data with more diverse data.\n"
   ]
  }
 ],
 "metadata": {
  "kernelspec": {
   "display_name": "Python 3",
   "language": "python",
   "name": "python3"
  },
  "language_info": {
   "codemirror_mode": {
    "name": "ipython",
    "version": 3
   },
   "file_extension": ".py",
   "mimetype": "text/x-python",
   "name": "python",
   "nbconvert_exporter": "python",
   "pygments_lexer": "ipython3",
   "version": "3.6.0"
  }
 },
 "nbformat": 4,
 "nbformat_minor": 2
}
